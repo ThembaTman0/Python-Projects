{
 "cells": [
  {
   "cell_type": "markdown",
   "id": "cb448e22",
   "metadata": {},
   "source": [
    "<h3>LIBRARY IMPORTS</h3>\n"
   ]
  },
  {
   "cell_type": "code",
   "execution_count": 1,
   "id": "7d26f1ca",
   "metadata": {},
   "outputs": [],
   "source": [
    "#Selenium imports here\n",
    "from selenium import webdriver\n",
    "from selenium.webdriver.common.keys import Keys\n",
    "from selenium.webdriver.support import expected_conditions as EC\n",
    "from selenium.webdriver.common.by import By\n",
    "from selenium.webdriver.support.wait import WebDriverWait"
   ]
  },
  {
   "cell_type": "code",
   "execution_count": 2,
   "id": "979cc687",
   "metadata": {},
   "outputs": [],
   "source": [
    "# %pip install wget\n",
    "#Other imports here\n",
    "import os\n",
    "import wget"
   ]
  },
  {
   "cell_type": "markdown",
   "id": "e92e6606",
   "metadata": {},
   "source": [
    "<h3>SET UP CHROME DRIVE</h3>"
   ]
  },
  {
   "cell_type": "code",
   "execution_count": 3,
   "id": "255aa28e",
   "metadata": {},
   "outputs": [],
   "source": [
    "\n",
    "driver=webdriver.Chrome('C:/Users/Public/Web_Driver/chromedriver.exe')"
   ]
  },
  {
   "cell_type": "markdown",
   "id": "9b1c25f2",
   "metadata": {},
   "source": [
    "<h3>OPEN WEB PAGE USING SELENIUM</h3>"
   ]
  },
  {
   "cell_type": "code",
   "execution_count": 4,
   "id": "49b1be63",
   "metadata": {
    "scrolled": true
   },
   "outputs": [],
   "source": [
    "driver.get(\"https://www.instagram.com/\")"
   ]
  },
  {
   "cell_type": "markdown",
   "id": "d96cc5aa",
   "metadata": {},
   "source": [
    "<h3>LOGGIN TO INSTAGRAM USING SELENIUM</h3>"
   ]
  },
  {
   "cell_type": "markdown",
   "id": "c031de29",
   "metadata": {},
   "source": [
    "<h5>Retrieve tags for username & password and Clear the username and password input</h5>"
   ]
  },
  {
   "cell_type": "code",
   "execution_count": 5,
   "id": "8ee2afb5",
   "metadata": {},
   "outputs": [],
   "source": [
    "username=WebDriverWait(driver,10).until(EC.element_to_be_clickable\n",
    "                                        ((By.CSS_SELECTOR,\"input[name='username']\")))\n",
    "password=WebDriverWait(driver,10).until(EC.element_to_be_clickable\n",
    "                                        ((By.CSS_SELECTOR,\"input[name='password']\")))\n",
    "\n",
    "username.clear()\n",
    "password.clear()"
   ]
  },
  {
   "cell_type": "markdown",
   "id": "97b7de9c",
   "metadata": {},
   "source": [
    "<h5> Enter password and username then loggin</h5>"
   ]
  },
  {
   "cell_type": "code",
   "execution_count": 6,
   "id": "0ebe3c81",
   "metadata": {},
   "outputs": [],
   "source": [
    "username.send_keys(\"USERNAME\")\n",
    "password.send_keys(\"PASSWORD\")\n",
    "log_in=WebDriverWait(driver,10).until(EC.element_to_be_clickable\n",
    "                                      ((By.CSS_SELECTOR,\"button[type='submit']\"))).click()\n"
   ]
  },
  {
   "cell_type": "markdown",
   "id": "bbf1c0f0",
   "metadata": {},
   "source": [
    "<h3>INSIDE INSTAGRAM</h3>"
   ]
  },
  {
   "cell_type": "markdown",
   "id": "ed4d737f",
   "metadata": {},
   "source": [
    "<h5>Cancel the pop-ups</h5>"
   ]
  },
  {
   "cell_type": "code",
   "execution_count": 7,
   "id": "67c9db42",
   "metadata": {},
   "outputs": [],
   "source": [
    "not_now=WebDriverWait(driver,10).until(EC.element_to_be_clickable\n",
    "                                      ((By.XPATH,\"//button[contains(text(),'Not Now')]\"))).click()\n",
    "not_now2=WebDriverWait(driver,10).until(EC.element_to_be_clickable\n",
    "                                      ((By.XPATH,\"//button[contains(text(),'Not Now')]\"))).click()"
   ]
  },
  {
   "cell_type": "markdown",
   "id": "635777b8",
   "metadata": {},
   "source": [
    "<h5>USe the variable Keyword to search via instagram</h5>"
   ]
  },
  {
   "cell_type": "code",
   "execution_count": 8,
   "id": "03fe4cc1",
   "metadata": {},
   "outputs": [],
   "source": [
    "searchbox=WebDriverWait(driver,10).until(EC.element_to_be_clickable\n",
    "                                        ((By.XPATH,\"//input[@placeholder='Search']\")))\n",
    "searchbox.clear()\n",
    "\n",
    "keyword=\"#CAR\"\n",
    "searchbox.send_keys(keyword)"
   ]
  },
  {
   "cell_type": "code",
   "execution_count": 9,
   "id": "16de01e8",
   "metadata": {},
   "outputs": [],
   "source": [
    "searchbox.send_keys(Keys.ENTER)\n",
    "searchbox.send_keys(Keys.ENTER)"
   ]
  },
  {
   "cell_type": "markdown",
   "id": "8e1c7540",
   "metadata": {},
   "source": [
    "<h3>DOWNLOAD CONTENT FROM A PAGE</h3>"
   ]
  },
  {
   "cell_type": "markdown",
   "id": "f1d5b716",
   "metadata": {},
   "source": [
    "<h5>Scroll down</h5>"
   ]
  },
  {
   "cell_type": "code",
   "execution_count": 10,
   "id": "f015090d",
   "metadata": {},
   "outputs": [],
   "source": [
    "driver.execute_script('window.scrollTo(0,1000);')"
   ]
  },
  {
   "cell_type": "markdown",
   "id": "c67a9517",
   "metadata": {},
   "source": [
    "<h5>Download pics</h5>"
   ]
  },
  {
   "cell_type": "code",
   "execution_count": 11,
   "id": "3f6de8ec",
   "metadata": {},
   "outputs": [],
   "source": [
    "images=driver.find_elements_by_tag_name('img')\n",
    "images=[image.get_attribute('src') for image in images]"
   ]
  },
  {
   "cell_type": "markdown",
   "id": "2356753a",
   "metadata": {},
   "source": [
    "<h5>Save the images to Computer</h5>"
   ]
  },
  {
   "cell_type": "code",
   "execution_count": 12,
   "id": "6aeaddbd",
   "metadata": {},
   "outputs": [
    {
     "name": "stdout",
     "output_type": "stream",
     "text": [
      "C:\\Users\\Themba Tman\\JUPYTER NOTEBOOK\\MY PROJECTS\\Web Scrapper\\CAR\n"
     ]
    }
   ],
   "source": [
    "path=os.getcwd()\n",
    "path=os.path.join(path,keyword[1:])\n",
    "\n",
    "os.mkdir(path)\n",
    "print(path)"
   ]
  },
  {
   "cell_type": "code",
   "execution_count": 13,
   "id": "20079939",
   "metadata": {},
   "outputs": [
    {
     "name": "stdout",
     "output_type": "stream",
     "text": [
      "100% [................................................................................] 4411 / 4411"
     ]
    }
   ],
   "source": [
    "counter=0\n",
    "for image in images:\n",
    "    save_as=os.path.join(path,keyword[1:]+str(counter)+'.jpg')\n",
    "    wget.download(image,save_as)\n",
    "    counter+=1"
   ]
  }
 ],
 "metadata": {
  "kernelspec": {
   "display_name": "Python 3",
   "language": "python",
   "name": "python3"
  },
  "language_info": {
   "codemirror_mode": {
    "name": "ipython",
    "version": 3
   },
   "file_extension": ".py",
   "mimetype": "text/x-python",
   "name": "python",
   "nbconvert_exporter": "python",
   "pygments_lexer": "ipython3",
   "version": "3.9.5"
  }
 },
 "nbformat": 4,
 "nbformat_minor": 5
}
